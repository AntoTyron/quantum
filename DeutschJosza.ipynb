{
 "cells": [
  {
   "cell_type": "code",
   "execution_count": 33,
   "metadata": {},
   "outputs": [],
   "source": [
    "from qiskit import QuantumCircuit, Aer, execute\n",
    "import numpy as np\n",
    "from qiskit.visualization import plot_histogram, plot_bloch_multivector"
   ]
  },
  {
   "cell_type": "code",
   "execution_count": 40,
   "metadata": {},
   "outputs": [],
   "source": [
    "def create_blackbox(type, n):\n",
    "    oracle_qc = QuantumCircuit(n+1)\n",
    "    if type == \"balanced\":\n",
    "        rdm_num = np.random.randint(1,2**n)\n",
    "        print (\"rdm_num\"+str(rdm_num))\n",
    "        rdm_str = format(rdm_num,'0'+str(n)+\"b\")\n",
    "        print (\"rdm_str\"+str(rdm_str))\n",
    "        \n",
    "        for qubit in range(len(rdm_str)):\n",
    "            if rdm_str[qubit] == '1':\n",
    "                oracle_qc.x(qubit)\n",
    "                \n",
    "        print (\"oracle_qc_after applying func :\")\n",
    "        print (oracle_qc)\n",
    "           \n",
    "        for qubit in range(n):\n",
    "            oracle_qc.cx(qubit,n)\n",
    "            \n",
    "        print (\"oracle_qc last bit:\")\n",
    "        print(oracle_qc)\n",
    "        \n",
    "        for qubit in range(len(rdm_str)):\n",
    "            if rdm_str[qubit] == '1':\n",
    "                oracle_qc.x(qubit)\n",
    "                \n",
    "        print (\"oracle_qc_after reverting back func :\")\n",
    "        print(oracle_qc)\n",
    "    elif type == \"constant\":\n",
    "        \n",
    "        output = np.random.randint(2)\n",
    "        \n",
    "        if output == 1:\n",
    "            oracle_qc.x(n)\n",
    "        \n",
    "        print (oracle_qc)\n",
    "        \n",
    "    oracle_gate = oracle_qc.to_gate()\n",
    "    oracle_gate.name = \"Oracle\"\n",
    "    return oracle_gate"
   ]
  },
  {
   "cell_type": "code",
   "execution_count": null,
   "metadata": {},
   "outputs": [],
   "source": []
  },
  {
   "cell_type": "code",
   "execution_count": 41,
   "metadata": {},
   "outputs": [],
   "source": [
    "def dj_algorithm(oracle, n):\n",
    "    dj_qc = QuantumCircuit(n+1,n)\n",
    "    \n",
    "    dj_qc.x(n)\n",
    "    dj_qc.h(n)\n",
    "    \n",
    "    for qubit in range(n):\n",
    "        dj_qc.h(qubit)\n",
    "        \n",
    "    dj_qc.append(oracle, range(n+1))\n",
    "    \n",
    "    for qubit in range(n):\n",
    "        dj_qc.h(qubit)\n",
    "        \n",
    "    for i in range(n):\n",
    "        dj_qc.measure(i,i)\n",
    "        \n",
    "    return dj_qc"
   ]
  },
  {
   "cell_type": "code",
   "execution_count": 42,
   "metadata": {},
   "outputs": [
    {
     "name": "stdout",
     "output_type": "stream",
     "text": [
      "             \n",
      "q_0: |0>─────\n",
      "             \n",
      "q_1: |0>─────\n",
      "             \n",
      "q_2: |0>─────\n",
      "             \n",
      "q_3: |0>─────\n",
      "        ┌───┐\n",
      "q_4: |0>┤ X ├\n",
      "        └───┘\n"
     ]
    },
    {
     "data": {
      "text/html": [
       "<pre style=\"word-wrap: normal;white-space: pre;background: #fff0;line-height: 1.1;font-family: &quot;Courier New&quot;,Courier,monospace\">        ┌───┐     ┌─────────┐┌───┐┌─┐         \n",
       "q_0: |0>┤ H ├─────┤0        ├┤ H ├┤M├─────────\n",
       "        ├───┤     │         │├───┤└╥┘┌─┐      \n",
       "q_1: |0>┤ H ├─────┤1        ├┤ H ├─╫─┤M├──────\n",
       "        ├───┤     │         │├───┤ ║ └╥┘┌─┐   \n",
       "q_2: |0>┤ H ├─────┤2 Oracle ├┤ H ├─╫──╫─┤M├───\n",
       "        ├───┤     │         │├───┤ ║  ║ └╥┘┌─┐\n",
       "q_3: |0>┤ H ├─────┤3        ├┤ H ├─╫──╫──╫─┤M├\n",
       "        ├───┤┌───┐│         │└───┘ ║  ║  ║ └╥┘\n",
       "q_4: |0>┤ X ├┤ H ├┤4        ├──────╫──╫──╫──╫─\n",
       "        └───┘└───┘└─────────┘      ║  ║  ║  ║ \n",
       " c_0: 0 ═══════════════════════════╩══╬══╬══╬═\n",
       "                                      ║  ║  ║ \n",
       " c_1: 0 ══════════════════════════════╩══╬══╬═\n",
       "                                         ║  ║ \n",
       " c_2: 0 ═════════════════════════════════╩══╬═\n",
       "                                            ║ \n",
       " c_3: 0 ════════════════════════════════════╩═\n",
       "                                              </pre>"
      ],
      "text/plain": [
       "        ┌───┐     ┌─────────┐┌───┐┌─┐         \n",
       "q_0: |0>┤ H ├─────┤0        ├┤ H ├┤M├─────────\n",
       "        ├───┤     │         │├───┤└╥┘┌─┐      \n",
       "q_1: |0>┤ H ├─────┤1        ├┤ H ├─╫─┤M├──────\n",
       "        ├───┤     │         │├───┤ ║ └╥┘┌─┐   \n",
       "q_2: |0>┤ H ├─────┤2 Oracle ├┤ H ├─╫──╫─┤M├───\n",
       "        ├───┤     │         │├───┤ ║  ║ └╥┘┌─┐\n",
       "q_3: |0>┤ H ├─────┤3        ├┤ H ├─╫──╫──╫─┤M├\n",
       "        ├───┤┌───┐│         │└───┘ ║  ║  ║ └╥┘\n",
       "q_4: |0>┤ X ├┤ H ├┤4        ├──────╫──╫──╫──╫─\n",
       "        └───┘└───┘└─────────┘      ║  ║  ║  ║ \n",
       " c_0: 0 ═══════════════════════════╩══╬══╬══╬═\n",
       "                                      ║  ║  ║ \n",
       " c_1: 0 ══════════════════════════════╩══╬══╬═\n",
       "                                         ║  ║ \n",
       " c_2: 0 ═════════════════════════════════╩══╬═\n",
       "                                            ║ \n",
       " c_3: 0 ════════════════════════════════════╩═\n",
       "                                              "
      ]
     },
     "execution_count": 42,
     "metadata": {},
     "output_type": "execute_result"
    }
   ],
   "source": [
    "n=4\n",
    "oracle = create_blackbox(\"constant\",n)\n",
    "dj_circuit = dj_algorithm(oracle,n)\n",
    "dj_circuit.draw()"
   ]
  },
  {
   "cell_type": "code",
   "execution_count": 43,
   "metadata": {},
   "outputs": [
    {
     "data": {
      "image/png": "[encoded data removed]",
      "text/plain": [
       "<Figure size 504x360 with 1 Axes>"
      ]
     },
     "execution_count": 43,
     "metadata": {},
     "output_type": "execute_result"
    }
   ],
   "source": [
    "backend = Aer.get_backend('qasm_simulator')\n",
    "result = execute(dj_circuit, backend=backend, shots=1024).result()\n",
    "answer = result.get_counts()\n",
    "plot_histogram(answer)"
   ]
  },
  {
   "cell_type": "code",
   "execution_count": null,
   "metadata": {},
   "outputs": [],
   "source": []
  }
 ],
 "metadata": {
  "kernelspec": {
   "display_name": "Python 3",
   "language": "python",
   "name": "python3"
  },
  "language_info": {
   "codemirror_mode": {
    "name": "ipython",
    "version": 3
   },
   "file_extension": ".py",
   "mimetype": "text/x-python",
   "name": "python",
   "nbconvert_exporter": "python",
   "pygments_lexer": "ipython3",
   "version": "3.7.1"
  }
 },
 "nbformat": 4,
 "nbformat_minor": 2
}
