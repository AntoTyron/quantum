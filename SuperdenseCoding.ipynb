{
 "cells": [
  {
   "cell_type": "code",
   "execution_count": 9,
   "metadata": {},
   "outputs": [],
   "source": [
    "from qiskit import QuantumRegister, QuantumCircuit, ClassicalRegister, execute,  IBMQ, Aer\n",
    "import numpy as np\n",
    "from qiskit.visualization import plot_histogram, plot_bloch_multivector"
   ]
  },
  {
   "cell_type": "code",
   "execution_count": 2,
   "metadata": {},
   "outputs": [],
   "source": [
    "def create_bell_pair(qc, a, b):\n",
    "    qc.h(a)\n",
    "    qc.cx(a,b)"
   ]
  },
  {
   "cell_type": "code",
   "execution_count": 4,
   "metadata": {},
   "outputs": [],
   "source": [
    "def encode_message(qc, qubit, msg):\n",
    "    if msg==\"00\":\n",
    "        pass\n",
    "    elif msg == \"10\":\n",
    "        qc.x(qubit)\n",
    "    elif msg == \"01\":\n",
    "        qc.z(qubit)\n",
    "    elif msg == \"11\" :\n",
    "        qc.x(qubit)\n",
    "        qc.z(qubit)\n",
    "    else :\n",
    "        print(\"Invalid message\")\n",
    "        "
   ]
  },
  {
   "cell_type": "code",
   "execution_count": 5,
   "metadata": {},
   "outputs": [],
   "source": [
    "def decode_message(qc,a,b):\n",
    "    qc.cx(a,b)\n",
    "    qc.h(a)"
   ]
  },
  {
   "cell_type": "code",
   "execution_count": 13,
   "metadata": {},
   "outputs": [
    {
     "data": {
      "text/html": [
       "<pre style=\"word-wrap: normal;white-space: pre;background: #fff0;line-height: 1.1;font-family: &quot;Courier New&quot;,Courier,monospace\">             ┌───┐      ░ ┌───┐┌───┐ ░      ┌───┐ ░  ░ ┌─┐   \n",
       "     q_0: |0>┤ H ├──■───░─┤ X ├┤ Z ├─░───■──┤ H ├─░──░─┤M├───\n",
       "             └───┘┌─┴─┐ ░ └───┘└───┘ ░ ┌─┴─┐└───┘ ░  ░ └╥┘┌─┐\n",
       "     q_1: |0>─────┤ X ├─░────────────░─┤ X ├──────░──░──╫─┤M├\n",
       "                  └───┘ ░            ░ └───┘      ░  ░  ║ └╥┘\n",
       "measure_0: 0 ═══════════════════════════════════════════╩══╬═\n",
       "                                                           ║ \n",
       "measure_1: 0 ══════════════════════════════════════════════╩═\n",
       "                                                             </pre>"
      ],
      "text/plain": [
       "             ┌───┐      ░ ┌───┐┌───┐ ░      ┌───┐ ░  ░ ┌─┐   \n",
       "     q_0: |0>┤ H ├──■───░─┤ X ├┤ Z ├─░───■──┤ H ├─░──░─┤M├───\n",
       "             └───┘┌─┴─┐ ░ └───┘└───┘ ░ ┌─┴─┐└───┘ ░  ░ └╥┘┌─┐\n",
       "     q_1: |0>─────┤ X ├─░────────────░─┤ X ├──────░──░──╫─┤M├\n",
       "                  └───┘ ░            ░ └───┘      ░  ░  ║ └╥┘\n",
       "measure_0: 0 ═══════════════════════════════════════════╩══╬═\n",
       "                                                           ║ \n",
       "measure_1: 0 ══════════════════════════════════════════════╩═\n",
       "                                                             "
      ]
     },
     "execution_count": 13,
     "metadata": {},
     "output_type": "execute_result"
    }
   ],
   "source": [
    "qc = QuantumCircuit(2)\n",
    "\n",
    "create_bell_pair(qc,0,1)\n",
    "\n",
    "qc.barrier()\n",
    "\n",
    "msg=\"11\"\n",
    "\n",
    "encode_message(qc, 0, msg)\n",
    "\n",
    "qc.barrier()\n",
    "\n",
    "decode_message(qc,0,1)\n",
    "\n",
    "qc.barrier()\n",
    "\n",
    "qc.measure_all()\n",
    "\n",
    "qc.draw()\n"
   ]
  },
  {
   "cell_type": "code",
   "execution_count": 14,
   "metadata": {},
   "outputs": [
    {
     "name": "stdout",
     "output_type": "stream",
     "text": [
      "{'11': 1024}\n"
     ]
    },
    {
     "data": {
      "image/png": "[encoded data removed]",
      "text/plain": [
       "<Figure size 504x360 with 1 Axes>"
      ]
     },
     "execution_count": 14,
     "metadata": {},
     "output_type": "execute_result"
    }
   ],
   "source": [
    "backend = Aer.get_backend('qasm_simulator')\n",
    "job_sim = execute(qc, backend, shots=1024)\n",
    "job_result = job_sim.result()\n",
    "\n",
    "measurement_result = job_result.get_counts(qc)\n",
    "print(measurement_result)\n",
    "plot_histogram(measurement_result)"
   ]
  },
  {
   "cell_type": "code",
   "execution_count": null,
   "metadata": {},
   "outputs": [],
   "source": []
  }
 ],
 "metadata": {
  "kernelspec": {
   "display_name": "Python 3",
   "language": "python",
   "name": "python3"
  },
  "language_info": {
   "codemirror_mode": {
    "name": "ipython",
    "version": 3
   },
   "file_extension": ".py",
   "mimetype": "text/x-python",
   "name": "python",
   "nbconvert_exporter": "python",
   "pygments_lexer": "ipython3",
   "version": "3.7.1"
  }
 },
 "nbformat": 4,
 "nbformat_minor": 2
}
